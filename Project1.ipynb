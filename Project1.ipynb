{
  "cells": [
    {
      "cell_type": "markdown",
      "metadata": {
        "id": "Byp6eeLIT_GH"
      },
      "source": [
        "## **Task 1: Compute the distance between data points (28 points)**"
      ]
    },
    {
      "cell_type": "markdown",
      "metadata": {
        "id": "Gzad1i2u3QCk"
      },
      "source": [
        "This task uses a set of 10 data points, as given by the code block below. The numerical features of these data points are stored in a pandas `DataFrame` with the name `data`. The features are given the column names `x` and `y`. Their class labels are in a list `class_labels`. For example, the label of data point `[9,2]` is 1. "
      ]
    },
    {
      "cell_type": "code",
      "execution_count": 67,
      "metadata": {
        "id": "EgMmROm6Gnll"
      },
      "outputs": [],
      "source": [
        "import pandas as pd\n",
        "\n",
        "data = pd.DataFrame([[9,2], [2,3], [3,8], [4,4], [5,1], [6,7], [7,9], [8,4], [9,5], [4,7]], columns=[\"x\",\"y\"])\n",
        "class_labels = [1, 1, 2, 1, 1, 2, 2, 2, 1, 2]"
      ]
    },
    {
      "cell_type": "markdown",
      "metadata": {
        "id": "XJqqaSuQVl5h"
      },
      "source": [
        "**(1.1)** - Write a piece of code to plot the 10-point dataset in a scatter plot using the `matplotlib` library  (https://matplotlib.org/3.5.1/api/_as_gen/matplotlib.pyplot.scatter.html). Points in class 1 should be shown in orange color and those in class 2 should be in blue. Furthermore, show a new data point `[5,6]` in red. \n",
        "\n",
        "The code block below already provides the first several lines and the last line. Don't change these lines. Instead, fill in your code between them. \n",
        "\n",
        "The code on this page can give you some ideas about how to plot points in different colors https://www.codegrepper.com/code-examples/python/how+to+plot+two+different+class+in+different+colour+in+python. \n",
        "\n",
        "(6 points)"
      ]
    },
    {
      "cell_type": "code",
      "execution_count": 68,
      "metadata": {
        "colab": {
          "base_uri": "https://localhost:8080/",
          "height": 324
        },
        "id": "mvHvIGqsWCEO",
        "outputId": "3062c5ea-a7f9-4d05-cb28-149bf8ad4c26"
      },
      "outputs": [
        {
          "data": {
            "image/png": "[encoded data removed]",
            "text/plain": [
              "<Figure size 360x360 with 1 Axes>"
            ]
          },
          "metadata": {
            "needs_background": "light"
          },
          "output_type": "display_data"
        }
      ],
      "source": [
        "# Code for 1.1\n",
        "import matplotlib\n",
        "import matplotlib.pyplot as plt\n",
        "\n",
        "plt.figure(figsize=(5, 5))  \n",
        "plt.xlim(0, 10)\n",
        "plt.ylim(0, 10)\n",
        "# DO NOT CHANGE ANYTHING ABOVE. FILL IN YOUR CODE BELOW.\n",
        "x1,y1,x2,y2= [9,2,4,5,9],[2,3,4,1,5],[3,6,7,8,4] , [8,7,9,4,7] \n",
        "# here x1, y1 belongs to class1 \n",
        "# here x2, y2 belongs to class2\n",
        "plt.scatter(x1,y1, c= 'orange')\n",
        "plt.scatter(x2,y2, c= 'blue')\n",
        "a,b = 5,6 \n",
        "plt.scatter(a,b , c= 'red')\n",
        "\n",
        "# DO NOT CHANGE ANYTHING BELOW. FILL IN YOUR CODE ABOVE.\n",
        "plt.show()"
      ]
    },
    {
      "cell_type": "markdown",
      "metadata": {
        "id": "kicuqaZQTeuw"
      },
      "source": [
        " **(1.2)** - Write a piece of code to compute the Euclidean distance between the new data point `[5,6]` and all 10 points in the dataset. Save the distances in a list named `distances`. Note that you are required to implement the Euclidean distance function, and you are not allowed to use any existing implementation of it in any Python library. \n",
        " \n",
        "The code block below already provides the first line and the last several lines, in order to print out the values in the list `distances`. You are supposed to fill in your code inside the block. Your output should be essentially the same as the output under the code block below. \n",
        "\n",
        "(10 points)"
      ]
    },
    {
      "cell_type": "code",
      "execution_count": 69,
      "metadata": {
        "colab": {
          "base_uri": "https://localhost:8080/"
        },
        "id": "eDVoe9aoUbkW",
        "outputId": "b128b1ac-80c6-4fb9-f0ae-799e8f41441a"
      },
      "outputs": [
        {
          "name": "stdout",
          "output_type": "stream",
          "text": [
            "[5.657 4.243 2.828 2.236 5.    1.414 3.606 3.606 4.123 1.414]\n"
          ]
        }
      ],
      "source": [
        "# Code for 1.2\n",
        "import numpy as np \n",
        "# DO NOT CHANGE ANYTHING ABOVE. FILL IN YOUR CODE BELOW.\n",
        "x= np.array([[9,2], [2,3], [3,8], [4,4], [5,1], [6,7], [7,9], [8,4], [9,5], [4,7]])\n",
        "y= np.array([5,6]) \n",
        "distances=[]\n",
        "for i in range(0, len(x)):\n",
        "  k = np.square(x-y)\n",
        "  l=0\n",
        "  for j in range (0, len(x[i])):\n",
        "    l=np.add(l,k[i][j])\n",
        "  distances.append(np.sqrt(l))\n",
        "\n",
        "# DO NOT CHANGE ANYTHING BELOW. FILL IN YOUR CODE ABOVE.\n",
        "np.set_printoptions(precision=3)\n",
        "print(np.array(distances))"
      ]
    },
    {
      "cell_type": "markdown",
      "metadata": {
        "id": "QNOJSncvkM5r"
      },
      "source": [
        "**(1.3)** - Using the 10-point dataset, find the class label for the new data point `[5,6]` by applying the idea of 3-nearest neighbor classification. Save its class label in a variable `class_label`. Judging by the plot from (1.1), you can tell this point should be classified as blue, i.e., class 2. \n",
        "\n",
        "Note that you are required to implement 3-nearest neighbor classification for `[5,6]`, instead of calling any existing implementation. \n",
        "\n",
        "The code block below already provides the first line and the last line. The first line is to hard-code the content of `distances` so that you can successfully work on this task even if you couldn't manage to accomplish (1.2). The last line prints out the class label of the new data point. Your output should be the same.\n",
        "\n",
        "(12 points)"
      ]
    },
    {
      "cell_type": "code",
      "execution_count": 70,
      "metadata": {
        "colab": {
          "base_uri": "https://localhost:8080/"
        },
        "id": "25W6FimDkMhe",
        "outputId": "6406a072-4fb8-4e7c-b94a-6993425987b2"
      },
      "outputs": [
        {
          "name": "stdout",
          "output_type": "stream",
          "text": [
            "class label :  2\n"
          ]
        }
      ],
      "source": [
        "# Code for 1.3\n",
        "distances = [5.657, 4.243, 2.828, 2.236, 5, 1.414, 3.606, 3.606, 4.123, 1.414]\n",
        "# DO NOT CHANGE ANYTHING ABOVE. FILL IN YOUR CODE BELOW.\n",
        "distances_sorted = np.sort(distances)\n",
        "minimum_values=[]\n",
        "for k in range(0,3):\n",
        "  s= distances_sorted[k]\n",
        "  minimum_values.append(s)\n",
        "minimum=np.unique(minimum_values)\n",
        "class_labels = [1, 1, 2, 1, 1, 2, 2, 2, 1, 2] \n",
        "index_list=[]\n",
        "for i in range(0, len(minimum)):\n",
        "  for j in range(0, len(distances)):\n",
        "    if minimum[i] == distances[j]: \n",
        "      index_list.append(j) \n",
        "classes=[]\n",
        "for i in index_list:\n",
        "  classes.append(class_labels[i])\n",
        "class_1=classes.count(1)\n",
        "class_2=classes.count(2)\n",
        "if class_1 > class_2 :\n",
        "  class_label ='1' \n",
        "else:\n",
        "  class_label = '2'\n",
        "\n",
        "\n",
        "\n",
        "# DO NOT CHANGE ANYTHING BELOW. FILL IN YOUR CODE ABOVE.\n",
        "print(\"class label : \", class_label)"
      ]
    },
    {
      "cell_type": "markdown",
      "metadata": {
        "id": "VE5MRfJg33ZR"
      },
      "source": [
        "## **Task 2: Exploratory Data Analysis (EDA) (24 points)**"
      ]
    },
    {
      "cell_type": "markdown",
      "metadata": {
        "id": "Fury7gkuighm"
      },
      "source": [
        "**(2.1)** - We will explore a dataset about airplane tickets. This dataset has close to five thousand rows and 7 columns. The dataset is provided as a CSV file `tickets.csv` in this [link](https://drive.google.com/uc?export=download&id=1GKrAzMQnQLsWlIY0e8PttKHmjC7Bb3kh). Fetch this file using `wget` and load it into a pandas `DataFrame` named `tickets`. The code block below provides the first two lines, including using `wget` to fetch the file. (4 points)"
      ]
    },
    {
      "cell_type": "code",
      "execution_count": 71,
      "metadata": {
        "colab": {
          "base_uri": "https://localhost:8080/"
        },
        "id": "N7wTresvdVWl",
        "outputId": "edf2d921-ff60-430a-f620-a1122f1e1606"
      },
      "outputs": [
        {
          "name": "stdout",
          "output_type": "stream",
          "text": [
            "--2022-03-11 08:19:56--  https://drive.google.com/uc?export=download&id=1GKrAzMQnQLsWlIY0e8PttKHmjC7Bb3kh\n",
            "Resolving drive.google.com (drive.google.com)... 74.125.20.100, 74.125.20.113, 74.125.20.138, ...\n",
            "Connecting to drive.google.com (drive.google.com)|74.125.20.100|:443... connected.\n",
            "HTTP request sent, awaiting response... 303 See Other\n",
            "Location: https://doc-10-78-docs.googleusercontent.com/docs/securesc/ha0ro937gcuc7l7deffksulhg5h7mbp1/0f5ovj9qjr9udu9pouql7udrdkhk8o7m/1646986725000/15814610165147367942/*/1GKrAzMQnQLsWlIY0e8PttKHmjC7Bb3kh?e=download [following]\n",
            "Warning: wildcards not supported in HTTP.\n",
            "--2022-03-11 08:19:56--  https://doc-10-78-docs.googleusercontent.com/docs/securesc/ha0ro937gcuc7l7deffksulhg5h7mbp1/0f5ovj9qjr9udu9pouql7udrdkhk8o7m/1646986725000/15814610165147367942/*/1GKrAzMQnQLsWlIY0e8PttKHmjC7Bb3kh?e=download\n",
            "Resolving doc-10-78-docs.googleusercontent.com (doc-10-78-docs.googleusercontent.com)... 173.194.202.132, 2607:f8b0:400e:c00::84\n",
            "Connecting to doc-10-78-docs.googleusercontent.com (doc-10-78-docs.googleusercontent.com)|173.194.202.132|:443... connected.\n",
            "HTTP request sent, awaiting response... 200 OK\n",
            "Length: 205275 (200K) [text/csv]\n",
            "Saving to: ‘tickets.csv’\n",
            "\n",
            "tickets.csv         100%[===================>] 200.46K  --.-KB/s    in 0.002s  \n",
            "\n",
            "2022-03-11 08:19:57 (84.2 MB/s) - ‘tickets.csv’ saved [205275/205275]\n",
            "\n"
          ]
        }
      ],
      "source": [
        "# Code for 2.1\n",
        "import pandas as pd\n",
        "!wget -O tickets.csv \"https://drive.google.com/uc?export=download&id=1GKrAzMQnQLsWlIY0e8PttKHmjC7Bb3kh\"\n",
        "# DO NOT CHANGE ANYTHING ABOVE. FILL IN YOUR CODE BELOW.\n",
        "tickets = pd.read_csv(\"https://drive.google.com/uc?export=download&id=1GKrAzMQnQLsWlIY0e8PttKHmjC7Bb3kh\")\n",
        "\n"
      ]
    },
    {
      "cell_type": "markdown",
      "metadata": {
        "id": "giMp_zPSonsw"
      },
      "source": [
        "Now let's look at the first 20 rows of the data. If your code block for 2.1 was correct, you should see the same output below. "
      ]
    },
    {
      "cell_type": "code",
      "execution_count": 72,
      "metadata": {
        "colab": {
          "base_uri": "https://localhost:8080/",
          "height": 677
        },
        "id": "05Wxqk05qeVq",
        "outputId": "b675817e-2cb9-4a1b-f31b-5340b2124ee6"
      },
      "outputs": [
        {
          "data": {
            "text/html": [
              "\n",
              "  <div id=\"df-4f3e3c6b-4719-4dc4-93b5-f3009fe8f173\">\n",
              "    <div class=\"colab-df-container\">\n",
              "      <div>\n",
              "<style scoped>\n",
              "    .dataframe tbody tr th:only-of-type {\n",
              "        vertical-align: middle;\n",
              "    }\n",
              "\n",
              "    .dataframe tbody tr th {\n",
              "        vertical-align: top;\n",
              "    }\n",
              "\n",
              "    .dataframe thead th {\n",
              "        text-align: right;\n",
              "    }\n",
              "</style>\n",
              "<table border=\"1\" class=\"dataframe\">\n",
              "  <thead>\n",
              "    <tr style=\"text-align: right;\">\n",
              "      <th></th>\n",
              "      <th>Stops</th>\n",
              "      <th>Website</th>\n",
              "      <th>Booked_on</th>\n",
              "      <th>Destination</th>\n",
              "      <th>Depart_date</th>\n",
              "      <th>Airline</th>\n",
              "      <th>Price</th>\n",
              "    </tr>\n",
              "  </thead>\n",
              "  <tbody>\n",
              "    <tr>\n",
              "      <th>0</th>\n",
              "      <td>5</td>\n",
              "      <td>KupiBilet.ru</td>\n",
              "      <td>2/7/22</td>\n",
              "      <td>YTO</td>\n",
              "      <td>4/30/22</td>\n",
              "      <td>WS</td>\n",
              "      <td>Expensive</td>\n",
              "    </tr>\n",
              "    <tr>\n",
              "      <th>1</th>\n",
              "      <td>4</td>\n",
              "      <td>KupiBilet.ru</td>\n",
              "      <td>2/8/22</td>\n",
              "      <td>ECN</td>\n",
              "      <td>2/27/22</td>\n",
              "      <td>DP</td>\n",
              "      <td>Cheap</td>\n",
              "    </tr>\n",
              "    <tr>\n",
              "      <th>2</th>\n",
              "      <td>4</td>\n",
              "      <td>KupiBilet.ru</td>\n",
              "      <td>2/5/22</td>\n",
              "      <td>GYE</td>\n",
              "      <td>4/10/22</td>\n",
              "      <td>AV</td>\n",
              "      <td>Expensive</td>\n",
              "    </tr>\n",
              "    <tr>\n",
              "      <th>3</th>\n",
              "      <td>4</td>\n",
              "      <td>KupiBilet.ru</td>\n",
              "      <td>2/8/22</td>\n",
              "      <td>YVR</td>\n",
              "      <td>5/11/22</td>\n",
              "      <td>WS</td>\n",
              "      <td>Expensive</td>\n",
              "    </tr>\n",
              "    <tr>\n",
              "      <th>4</th>\n",
              "      <td>4</td>\n",
              "      <td>KupiBilet.ru</td>\n",
              "      <td>2/9/22</td>\n",
              "      <td>LIM</td>\n",
              "      <td>5/11/22</td>\n",
              "      <td>AM</td>\n",
              "      <td>Expensive</td>\n",
              "    </tr>\n",
              "    <tr>\n",
              "      <th>5</th>\n",
              "      <td>4</td>\n",
              "      <td>KupiBilet.ru</td>\n",
              "      <td>2/8/22</td>\n",
              "      <td>YVR</td>\n",
              "      <td>7/17/22</td>\n",
              "      <td>WS</td>\n",
              "      <td>Expensive</td>\n",
              "    </tr>\n",
              "    <tr>\n",
              "      <th>6</th>\n",
              "      <td>4</td>\n",
              "      <td>KupiBilet.ru</td>\n",
              "      <td>2/7/22</td>\n",
              "      <td>YQB</td>\n",
              "      <td>7/1/22</td>\n",
              "      <td>WS</td>\n",
              "      <td>Expensive</td>\n",
              "    </tr>\n",
              "    <tr>\n",
              "      <th>7</th>\n",
              "      <td>4</td>\n",
              "      <td>KupiBilet.ru</td>\n",
              "      <td>2/7/22</td>\n",
              "      <td>YVR</td>\n",
              "      <td>6/7/22</td>\n",
              "      <td>WS</td>\n",
              "      <td>Expensive</td>\n",
              "    </tr>\n",
              "    <tr>\n",
              "      <th>8</th>\n",
              "      <td>4</td>\n",
              "      <td>KupiBilet.ru</td>\n",
              "      <td>2/5/22</td>\n",
              "      <td>AHB</td>\n",
              "      <td>6/19/22</td>\n",
              "      <td>5W</td>\n",
              "      <td>Expensive</td>\n",
              "    </tr>\n",
              "    <tr>\n",
              "      <th>9</th>\n",
              "      <td>4</td>\n",
              "      <td>KupiBilet.ru</td>\n",
              "      <td>2/7/22</td>\n",
              "      <td>YVR</td>\n",
              "      <td>11/1/22</td>\n",
              "      <td>WS</td>\n",
              "      <td>Expensive</td>\n",
              "    </tr>\n",
              "    <tr>\n",
              "      <th>10</th>\n",
              "      <td>4</td>\n",
              "      <td>KupiBilet.ru</td>\n",
              "      <td>2/8/22</td>\n",
              "      <td>RIO</td>\n",
              "      <td>6/21/22</td>\n",
              "      <td>AF</td>\n",
              "      <td>Expensive</td>\n",
              "    </tr>\n",
              "    <tr>\n",
              "      <th>11</th>\n",
              "      <td>4</td>\n",
              "      <td>KupiBilet.ru</td>\n",
              "      <td>2/6/22</td>\n",
              "      <td>UIO</td>\n",
              "      <td>8/15/22</td>\n",
              "      <td>AV</td>\n",
              "      <td>Expensive</td>\n",
              "    </tr>\n",
              "    <tr>\n",
              "      <th>12</th>\n",
              "      <td>4</td>\n",
              "      <td>KupiBilet.ru</td>\n",
              "      <td>2/8/22</td>\n",
              "      <td>GYE</td>\n",
              "      <td>8/22/22</td>\n",
              "      <td>AV</td>\n",
              "      <td>Expensive</td>\n",
              "    </tr>\n",
              "    <tr>\n",
              "      <th>13</th>\n",
              "      <td>4</td>\n",
              "      <td>KupiBilet.ru</td>\n",
              "      <td>2/7/22</td>\n",
              "      <td>SDQ</td>\n",
              "      <td>11/1/22</td>\n",
              "      <td>TK</td>\n",
              "      <td>Expensive</td>\n",
              "    </tr>\n",
              "    <tr>\n",
              "      <th>14</th>\n",
              "      <td>4</td>\n",
              "      <td>MEGO.travel</td>\n",
              "      <td>2/5/22</td>\n",
              "      <td>MBJ</td>\n",
              "      <td>12/1/22</td>\n",
              "      <td>TK</td>\n",
              "      <td>Expensive</td>\n",
              "    </tr>\n",
              "    <tr>\n",
              "      <th>15</th>\n",
              "      <td>4</td>\n",
              "      <td>KupiBilet.ru</td>\n",
              "      <td>2/5/22</td>\n",
              "      <td>YLW</td>\n",
              "      <td>8/20/22</td>\n",
              "      <td>WS</td>\n",
              "      <td>Expensive</td>\n",
              "    </tr>\n",
              "    <tr>\n",
              "      <th>16</th>\n",
              "      <td>4</td>\n",
              "      <td>KupiBilet.ru</td>\n",
              "      <td>2/5/22</td>\n",
              "      <td>RIO</td>\n",
              "      <td>10/26/22</td>\n",
              "      <td>AF</td>\n",
              "      <td>Expensive</td>\n",
              "    </tr>\n",
              "    <tr>\n",
              "      <th>17</th>\n",
              "      <td>4</td>\n",
              "      <td>KupiBilet.ru</td>\n",
              "      <td>2/9/22</td>\n",
              "      <td>CUZ</td>\n",
              "      <td>10/1/22</td>\n",
              "      <td>AM</td>\n",
              "      <td>Expensive</td>\n",
              "    </tr>\n",
              "    <tr>\n",
              "      <th>18</th>\n",
              "      <td>4</td>\n",
              "      <td>MEGO.travel</td>\n",
              "      <td>2/6/22</td>\n",
              "      <td>MBJ</td>\n",
              "      <td>8/3/22</td>\n",
              "      <td>TK</td>\n",
              "      <td>Expensive</td>\n",
              "    </tr>\n",
              "    <tr>\n",
              "      <th>19</th>\n",
              "      <td>4</td>\n",
              "      <td>KupiBilet.ru</td>\n",
              "      <td>2/8/22</td>\n",
              "      <td>RIO</td>\n",
              "      <td>11/18/22</td>\n",
              "      <td>AF</td>\n",
              "      <td>Expensive</td>\n",
              "    </tr>\n",
              "  </tbody>\n",
              "</table>\n",
              "</div>\n",
              "      <button class=\"colab-df-convert\" onclick=\"convertToInteractive('df-4f3e3c6b-4719-4dc4-93b5-f3009fe8f173')\"\n",
              "              title=\"Convert this dataframe to an interactive table.\"\n",
              "              style=\"display:none;\">\n",
              "        \n",
              "  <svg xmlns=\"http://www.w3.org/2000/svg\" height=\"24px\"viewBox=\"0 0 24 24\"\n",
              "       width=\"24px\">\n",
              "    <path d=\"M0 0h24v24H0V0z\" fill=\"none\"/>\n",
              "    <path d=\"M18.56 5.44l.94 2.06.94-2.06 2.06-.94-2.06-.94-.94-2.06-.94 2.06-2.06.94zm-11 1L8.5 8.5l.94-2.06 2.06-.94-2.06-.94L8.5 2.5l-.94 2.06-2.06.94zm10 10l.94 2.06.94-2.06 2.06-.94-2.06-.94-.94-2.06-.94 2.06-2.06.94z\"/><path d=\"M17.41 7.96l-1.37-1.37c-.4-.4-.92-.59-1.43-.59-.52 0-1.04.2-1.43.59L10.3 9.45l-7.72 7.72c-.78.78-.78 2.05 0 2.83L4 21.41c.39.39.9.59 1.41.59.51 0 1.02-.2 1.41-.59l7.78-7.78 2.81-2.81c.8-.78.8-2.07 0-2.86zM5.41 20L4 18.59l7.72-7.72 1.47 1.35L5.41 20z\"/>\n",
              "  </svg>\n",
              "      </button>\n",
              "      \n",
              "  <style>\n",
              "    .colab-df-container {\n",
              "      display:flex;\n",
              "      flex-wrap:wrap;\n",
              "      gap: 12px;\n",
              "    }\n",
              "\n",
              "    .colab-df-convert {\n",
              "      background-color: #E8F0FE;\n",
              "      border: none;\n",
              "      border-radius: 50%;\n",
              "      cursor: pointer;\n",
              "      display: none;\n",
              "      fill: #1967D2;\n",
              "      height: 32px;\n",
              "      padding: 0 0 0 0;\n",
              "      width: 32px;\n",
              "    }\n",
              "\n",
              "    .colab-df-convert:hover {\n",
              "      background-color: #E2EBFA;\n",
              "      box-shadow: 0px 1px 2px rgba(60, 64, 67, 0.3), 0px 1px 3px 1px rgba(60, 64, 67, 0.15);\n",
              "      fill: #174EA6;\n",
              "    }\n",
              "\n",
              "    [theme=dark] .colab-df-convert {\n",
              "      background-color: #3B4455;\n",
              "      fill: #D2E3FC;\n",
              "    }\n",
              "\n",
              "    [theme=dark] .colab-df-convert:hover {\n",
              "      background-color: #434B5C;\n",
              "      box-shadow: 0px 1px 3px 1px rgba(0, 0, 0, 0.15);\n",
              "      filter: drop-shadow(0px 1px 2px rgba(0, 0, 0, 0.3));\n",
              "      fill: #FFFFFF;\n",
              "    }\n",
              "  </style>\n",
              "\n",
              "      <script>\n",
              "        const buttonEl =\n",
              "          document.querySelector('#df-4f3e3c6b-4719-4dc4-93b5-f3009fe8f173 button.colab-df-convert');\n",
              "        buttonEl.style.display =\n",
              "          google.colab.kernel.accessAllowed ? 'block' : 'none';\n",
              "\n",
              "        async function convertToInteractive(key) {\n",
              "          const element = document.querySelector('#df-4f3e3c6b-4719-4dc4-93b5-f3009fe8f173');\n",
              "          const dataTable =\n",
              "            await google.colab.kernel.invokeFunction('convertToInteractive',\n",
              "                                                     [key], {});\n",
              "          if (!dataTable) return;\n",
              "\n",
              "          const docLinkHtml = 'Like what you see? Visit the ' +\n",
              "            '<a target=\"_blank\" href=https://colab.research.google.com/notebooks/data_table.ipynb>data table notebook</a>'\n",
              "            + ' to learn more about interactive tables.';\n",
              "          element.innerHTML = '';\n",
              "          dataTable['output_type'] = 'display_data';\n",
              "          await google.colab.output.renderOutput(dataTable, element);\n",
              "          const docLink = document.createElement('div');\n",
              "          docLink.innerHTML = docLinkHtml;\n",
              "          element.appendChild(docLink);\n",
              "        }\n",
              "      </script>\n",
              "    </div>\n",
              "  </div>\n",
              "  "
            ],
            "text/plain": [
              "    Stops       Website Booked_on Destination Depart_date Airline      Price\n",
              "0       5  KupiBilet.ru    2/7/22         YTO     4/30/22      WS  Expensive\n",
              "1       4  KupiBilet.ru    2/8/22         ECN     2/27/22      DP      Cheap\n",
              "2       4  KupiBilet.ru    2/5/22         GYE     4/10/22      AV  Expensive\n",
              "3       4  KupiBilet.ru    2/8/22         YVR     5/11/22      WS  Expensive\n",
              "4       4  KupiBilet.ru    2/9/22         LIM     5/11/22      AM  Expensive\n",
              "5       4  KupiBilet.ru    2/8/22         YVR     7/17/22      WS  Expensive\n",
              "6       4  KupiBilet.ru    2/7/22         YQB      7/1/22      WS  Expensive\n",
              "7       4  KupiBilet.ru    2/7/22         YVR      6/7/22      WS  Expensive\n",
              "8       4  KupiBilet.ru    2/5/22         AHB     6/19/22      5W  Expensive\n",
              "9       4  KupiBilet.ru    2/7/22         YVR     11/1/22      WS  Expensive\n",
              "10      4  KupiBilet.ru    2/8/22         RIO     6/21/22      AF  Expensive\n",
              "11      4  KupiBilet.ru    2/6/22         UIO     8/15/22      AV  Expensive\n",
              "12      4  KupiBilet.ru    2/8/22         GYE     8/22/22      AV  Expensive\n",
              "13      4  KupiBilet.ru    2/7/22         SDQ     11/1/22      TK  Expensive\n",
              "14      4   MEGO.travel    2/5/22         MBJ     12/1/22      TK  Expensive\n",
              "15      4  KupiBilet.ru    2/5/22         YLW     8/20/22      WS  Expensive\n",
              "16      4  KupiBilet.ru    2/5/22         RIO    10/26/22      AF  Expensive\n",
              "17      4  KupiBilet.ru    2/9/22         CUZ     10/1/22      AM  Expensive\n",
              "18      4   MEGO.travel    2/6/22         MBJ      8/3/22      TK  Expensive\n",
              "19      4  KupiBilet.ru    2/8/22         RIO    11/18/22      AF  Expensive"
            ]
          },
          "execution_count": 72,
          "metadata": {},
          "output_type": "execute_result"
        }
      ],
      "source": [
        "tickets.head(20)"
      ]
    },
    {
      "cell_type": "markdown",
      "metadata": {
        "id": "ZeHJOzvDnzwN"
      },
      "source": [
        "Let's gain some basic understanding of the dataset by using `info()`."
      ]
    },
    {
      "cell_type": "code",
      "execution_count": 73,
      "metadata": {
        "colab": {
          "base_uri": "https://localhost:8080/"
        },
        "id": "dnrTKoUVbQHf",
        "outputId": "de550819-99d0-48ea-ba20-55d80804c79a"
      },
      "outputs": [
        {
          "name": "stdout",
          "output_type": "stream",
          "text": [
            "<class 'pandas.core.frame.DataFrame'>\n",
            "RangeIndex: 4732 entries, 0 to 4731\n",
            "Data columns (total 7 columns):\n",
            " #   Column       Non-Null Count  Dtype \n",
            "---  ------       --------------  ----- \n",
            " 0   Stops        4732 non-null   int64 \n",
            " 1   Website      4732 non-null   object\n",
            " 2   Booked_on    4732 non-null   object\n",
            " 3   Destination  4732 non-null   object\n",
            " 4   Depart_date  4732 non-null   object\n",
            " 5   Airline      4732 non-null   object\n",
            " 6   Price        4732 non-null   object\n",
            "dtypes: int64(1), object(6)\n",
            "memory usage: 258.9+ KB\n"
          ]
        }
      ],
      "source": [
        "tickets.info()"
      ]
    },
    {
      "cell_type": "markdown",
      "metadata": {
        "id": "ZaV8Wyrjposk"
      },
      "source": [
        "**(2.2)** - We will make `Price` the class attribute. Now let's find out all the distinct values in this column. (4 points)"
      ]
    },
    {
      "cell_type": "code",
      "execution_count": 74,
      "metadata": {
        "colab": {
          "base_uri": "https://localhost:8080/"
        },
        "id": "q11iPw2-pyfg",
        "outputId": "de5accab-75db-419b-d6c5-3f8e067ab5c0"
      },
      "outputs": [
        {
          "data": {
            "text/plain": [
              "array(['Average', 'Cheap', 'Expensive'], dtype=object)"
            ]
          },
          "execution_count": 74,
          "metadata": {},
          "output_type": "execute_result"
        }
      ],
      "source": [
        "# Code for 2.2\n",
        "Prices= tickets.Price\n",
        "np.unique(Prices)\n"
      ]
    },
    {
      "cell_type": "markdown",
      "metadata": {
        "id": "On80KmxCQ2I6"
      },
      "source": [
        "**(2.3)** - Show how many data entries there are in each class, i.e., the number of tickets booked in each price range. (4 points)"
      ]
    },
    {
      "cell_type": "code",
      "execution_count": 75,
      "metadata": {
        "colab": {
          "base_uri": "https://localhost:8080/"
        },
        "id": "Za6VbzuTRFuB",
        "outputId": "9edf62cd-b8fa-42a1-870c-60acffeeab9d"
      },
      "outputs": [
        {
          "data": {
            "text/plain": [
              "Cheap        1780\n",
              "Average      1535\n",
              "Expensive    1417\n",
              "Name: Price, dtype: int64"
            ]
          },
          "execution_count": 75,
          "metadata": {},
          "output_type": "execute_result"
        }
      ],
      "source": [
        "# Code for 2.3\n",
        "Prices.value_counts()\n"
      ]
    },
    {
      "cell_type": "markdown",
      "metadata": {
        "id": "Jx2LuBGNTPt_"
      },
      "source": [
        "**(2.4)** - Show 3 random data instances (rows) for each class. (4 points)"
      ]
    },
    {
      "cell_type": "code",
      "execution_count": 76,
      "metadata": {
        "colab": {
          "base_uri": "https://localhost:8080/",
          "height": 331
        },
        "id": "i_2FSiyQTYZD",
        "outputId": "4436f7e9-720a-4fd8-eaed-0547e228b5fb"
      },
      "outputs": [
        {
          "data": {
            "text/html": [
              "\n",
              "  <div id=\"df-5704ae68-e5f5-4e9e-9f3a-ebff21831bee\">\n",
              "    <div class=\"colab-df-container\">\n",
              "      <div>\n",
              "<style scoped>\n",
              "    .dataframe tbody tr th:only-of-type {\n",
              "        vertical-align: middle;\n",
              "    }\n",
              "\n",
              "    .dataframe tbody tr th {\n",
              "        vertical-align: top;\n",
              "    }\n",
              "\n",
              "    .dataframe thead th {\n",
              "        text-align: right;\n",
              "    }\n",
              "</style>\n",
              "<table border=\"1\" class=\"dataframe\">\n",
              "  <thead>\n",
              "    <tr style=\"text-align: right;\">\n",
              "      <th></th>\n",
              "      <th>Stops</th>\n",
              "      <th>Website</th>\n",
              "      <th>Booked_on</th>\n",
              "      <th>Destination</th>\n",
              "      <th>Depart_date</th>\n",
              "      <th>Airline</th>\n",
              "      <th>Price</th>\n",
              "    </tr>\n",
              "  </thead>\n",
              "  <tbody>\n",
              "    <tr>\n",
              "      <th>2607</th>\n",
              "      <td>1</td>\n",
              "      <td>AirFrance</td>\n",
              "      <td>2/8/22</td>\n",
              "      <td>LJU</td>\n",
              "      <td>5/23/22</td>\n",
              "      <td>AF</td>\n",
              "      <td>Average</td>\n",
              "    </tr>\n",
              "    <tr>\n",
              "      <th>3055</th>\n",
              "      <td>1</td>\n",
              "      <td>Mytrip.com</td>\n",
              "      <td>2/4/22</td>\n",
              "      <td>ALA</td>\n",
              "      <td>11/30/22</td>\n",
              "      <td>TK</td>\n",
              "      <td>Average</td>\n",
              "    </tr>\n",
              "    <tr>\n",
              "      <th>3019</th>\n",
              "      <td>1</td>\n",
              "      <td>KupiBilet.ru</td>\n",
              "      <td>2/9/22</td>\n",
              "      <td>KHV</td>\n",
              "      <td>11/4/22</td>\n",
              "      <td>S7</td>\n",
              "      <td>Average</td>\n",
              "    </tr>\n",
              "    <tr>\n",
              "      <th>3722</th>\n",
              "      <td>0</td>\n",
              "      <td>Kiwi.com</td>\n",
              "      <td>2/9/22</td>\n",
              "      <td>AUH</td>\n",
              "      <td>2/25/22</td>\n",
              "      <td>5W</td>\n",
              "      <td>Cheap</td>\n",
              "    </tr>\n",
              "    <tr>\n",
              "      <th>3925</th>\n",
              "      <td>0</td>\n",
              "      <td>KupiBilet.ru</td>\n",
              "      <td>2/9/22</td>\n",
              "      <td>FEG</td>\n",
              "      <td>2/23/22</td>\n",
              "      <td>IO</td>\n",
              "      <td>Cheap</td>\n",
              "    </tr>\n",
              "    <tr>\n",
              "      <th>399</th>\n",
              "      <td>2</td>\n",
              "      <td>KupiBilet.ru</td>\n",
              "      <td>2/8/22</td>\n",
              "      <td>PUY</td>\n",
              "      <td>3/27/22</td>\n",
              "      <td>S7</td>\n",
              "      <td>Cheap</td>\n",
              "    </tr>\n",
              "    <tr>\n",
              "      <th>3211</th>\n",
              "      <td>1</td>\n",
              "      <td>OZON</td>\n",
              "      <td>2/2/22</td>\n",
              "      <td>SEL</td>\n",
              "      <td>12/4/22</td>\n",
              "      <td>S7</td>\n",
              "      <td>Expensive</td>\n",
              "    </tr>\n",
              "    <tr>\n",
              "      <th>3243</th>\n",
              "      <td>1</td>\n",
              "      <td>City.Travel</td>\n",
              "      <td>2/8/22</td>\n",
              "      <td>MCT</td>\n",
              "      <td>11/18/22</td>\n",
              "      <td>FZ</td>\n",
              "      <td>Expensive</td>\n",
              "    </tr>\n",
              "    <tr>\n",
              "      <th>3289</th>\n",
              "      <td>1</td>\n",
              "      <td>Mytrip.com</td>\n",
              "      <td>2/3/22</td>\n",
              "      <td>CMB</td>\n",
              "      <td>10/11/22</td>\n",
              "      <td>TK</td>\n",
              "      <td>Expensive</td>\n",
              "    </tr>\n",
              "  </tbody>\n",
              "</table>\n",
              "</div>\n",
              "      <button class=\"colab-df-convert\" onclick=\"convertToInteractive('df-5704ae68-e5f5-4e9e-9f3a-ebff21831bee')\"\n",
              "              title=\"Convert this dataframe to an interactive table.\"\n",
              "              style=\"display:none;\">\n",
              "        \n",
              "  <svg xmlns=\"http://www.w3.org/2000/svg\" height=\"24px\"viewBox=\"0 0 24 24\"\n",
              "       width=\"24px\">\n",
              "    <path d=\"M0 0h24v24H0V0z\" fill=\"none\"/>\n",
              "    <path d=\"M18.56 5.44l.94 2.06.94-2.06 2.06-.94-2.06-.94-.94-2.06-.94 2.06-2.06.94zm-11 1L8.5 8.5l.94-2.06 2.06-.94-2.06-.94L8.5 2.5l-.94 2.06-2.06.94zm10 10l.94 2.06.94-2.06 2.06-.94-2.06-.94-.94-2.06-.94 2.06-2.06.94z\"/><path d=\"M17.41 7.96l-1.37-1.37c-.4-.4-.92-.59-1.43-.59-.52 0-1.04.2-1.43.59L10.3 9.45l-7.72 7.72c-.78.78-.78 2.05 0 2.83L4 21.41c.39.39.9.59 1.41.59.51 0 1.02-.2 1.41-.59l7.78-7.78 2.81-2.81c.8-.78.8-2.07 0-2.86zM5.41 20L4 18.59l7.72-7.72 1.47 1.35L5.41 20z\"/>\n",
              "  </svg>\n",
              "      </button>\n",
              "      \n",
              "  <style>\n",
              "    .colab-df-container {\n",
              "      display:flex;\n",
              "      flex-wrap:wrap;\n",
              "      gap: 12px;\n",
              "    }\n",
              "\n",
              "    .colab-df-convert {\n",
              "      background-color: #E8F0FE;\n",
              "      border: none;\n",
              "      border-radius: 50%;\n",
              "      cursor: pointer;\n",
              "      display: none;\n",
              "      fill: #1967D2;\n",
              "      height: 32px;\n",
              "      padding: 0 0 0 0;\n",
              "      width: 32px;\n",
              "    }\n",
              "\n",
              "    .colab-df-convert:hover {\n",
              "      background-color: #E2EBFA;\n",
              "      box-shadow: 0px 1px 2px rgba(60, 64, 67, 0.3), 0px 1px 3px 1px rgba(60, 64, 67, 0.15);\n",
              "      fill: #174EA6;\n",
              "    }\n",
              "\n",
              "    [theme=dark] .colab-df-convert {\n",
              "      background-color: #3B4455;\n",
              "      fill: #D2E3FC;\n",
              "    }\n",
              "\n",
              "    [theme=dark] .colab-df-convert:hover {\n",
              "      background-color: #434B5C;\n",
              "      box-shadow: 0px 1px 3px 1px rgba(0, 0, 0, 0.15);\n",
              "      filter: drop-shadow(0px 1px 2px rgba(0, 0, 0, 0.3));\n",
              "      fill: #FFFFFF;\n",
              "    }\n",
              "  </style>\n",
              "\n",
              "      <script>\n",
              "        const buttonEl =\n",
              "          document.querySelector('#df-5704ae68-e5f5-4e9e-9f3a-ebff21831bee button.colab-df-convert');\n",
              "        buttonEl.style.display =\n",
              "          google.colab.kernel.accessAllowed ? 'block' : 'none';\n",
              "\n",
              "        async function convertToInteractive(key) {\n",
              "          const element = document.querySelector('#df-5704ae68-e5f5-4e9e-9f3a-ebff21831bee');\n",
              "          const dataTable =\n",
              "            await google.colab.kernel.invokeFunction('convertToInteractive',\n",
              "                                                     [key], {});\n",
              "          if (!dataTable) return;\n",
              "\n",
              "          const docLinkHtml = 'Like what you see? Visit the ' +\n",
              "            '<a target=\"_blank\" href=https://colab.research.google.com/notebooks/data_table.ipynb>data table notebook</a>'\n",
              "            + ' to learn more about interactive tables.';\n",
              "          element.innerHTML = '';\n",
              "          dataTable['output_type'] = 'display_data';\n",
              "          await google.colab.output.renderOutput(dataTable, element);\n",
              "          const docLink = document.createElement('div');\n",
              "          docLink.innerHTML = docLinkHtml;\n",
              "          element.appendChild(docLink);\n",
              "        }\n",
              "      </script>\n",
              "    </div>\n",
              "  </div>\n",
              "  "
            ],
            "text/plain": [
              "      Stops       Website Booked_on Destination Depart_date Airline      Price\n",
              "2607      1     AirFrance    2/8/22         LJU     5/23/22      AF    Average\n",
              "3055      1    Mytrip.com    2/4/22         ALA    11/30/22      TK    Average\n",
              "3019      1  KupiBilet.ru    2/9/22         KHV     11/4/22      S7    Average\n",
              "3722      0      Kiwi.com    2/9/22         AUH     2/25/22      5W      Cheap\n",
              "3925      0  KupiBilet.ru    2/9/22         FEG     2/23/22      IO      Cheap\n",
              "399       2  KupiBilet.ru    2/8/22         PUY     3/27/22      S7      Cheap\n",
              "3211      1          OZON    2/2/22         SEL     12/4/22      S7  Expensive\n",
              "3243      1   City.Travel    2/8/22         MCT    11/18/22      FZ  Expensive\n",
              "3289      1    Mytrip.com    2/3/22         CMB    10/11/22      TK  Expensive"
            ]
          },
          "execution_count": 76,
          "metadata": {},
          "output_type": "execute_result"
        }
      ],
      "source": [
        "# Code for 2.4\n",
        "col= pd.DataFrame(tickets, columns = ['Stops' , 'Website', 'Booked_on','Destination','Depart_date','Airline','Price'])\n",
        "col.groupby('Price').sample(n=3)\n"
      ]
    },
    {
      "cell_type": "markdown",
      "metadata": {
        "id": "1FvDWC1yRMJI"
      },
      "source": [
        "**(2.5)** - Show the **number** of distinct values in each of these columns: `Stops`, `Website`, `Booked_on`, `Destination`, `Depart_date`, and `Airline`. (4 points)"
      ]
    },
    {
      "cell_type": "code",
      "execution_count": 77,
      "metadata": {
        "colab": {
          "base_uri": "https://localhost:8080/"
        },
        "id": "yoJ2ccqGRYYZ",
        "outputId": "1500a6bf-939f-450c-d297-9c4502bb5043"
      },
      "outputs": [
        {
          "name": "stdout",
          "output_type": "stream",
          "text": [
            "Stops:  6\n",
            "Website:  56\n",
            "Booked_on:  8\n",
            "Destination:  956\n",
            "Depart_date:  327\n",
            "Airline:  114\n"
          ]
        }
      ],
      "source": [
        "# Code for 2.5\n",
        "columns = ['Stops', 'Website', 'Booked_on', 'Destination', 'Depart_date', 'Airline']\n",
        "for i in columns :\n",
        "  k=len(np.unique(tickets[i]))\n",
        "  print('{}:  {}'.format(i, k))\n"
      ]
    },
    {
      "cell_type": "markdown",
      "metadata": {
        "id": "NY8G_CRzP_ff"
      },
      "source": [
        "**(2.6)** - Find the earliest and the latest dates in the `Booked_on` column. (4 points)"
      ]
    },
    {
      "cell_type": "code",
      "execution_count": 78,
      "metadata": {
        "colab": {
          "base_uri": "https://localhost:8080/"
        },
        "id": "EPK-awuZP2PH",
        "outputId": "87fbe0a0-19ce-4bf5-8ea9-303d61e0547c"
      },
      "outputs": [
        {
          "name": "stdout",
          "output_type": "stream",
          "text": [
            "earliest date:  2/2/22\n",
            "latest date:  2/9/22\n"
          ]
        }
      ],
      "source": [
        "# Code for 2.6\n",
        "print('earliest date:  {}\\nlatest date:  {}'.format(min(tickets['Booked_on']), max(tickets['Booked_on'])))  \n"
      ]
    },
    {
      "cell_type": "markdown",
      "metadata": {
        "id": "AeBRG1UzMmHc"
      },
      "source": [
        "## **Task 3: Build and evaluate classification models (48 points)**\n",
        "\n",
        "In this task, we use the Python `scikit-learn` library to build a kNN classifier on the air ticket dataset. The classifier predicts whether the price of a ticket is cheap, average, or expensive. Note that these are the three distinct values in column `Price`. \n"
      ]
    },
    {
      "cell_type": "markdown",
      "metadata": {
        "id": "He-DW9NIQXXi"
      },
      "source": [
        "The air ticket dataset has several categorical attributes. In `scikit-learn`, there are limited ways of building models that directly work with catagorical attributes. Oftentimes we need to preprocess such attributes before we can build and evaluate models. More specifically, we need to encode such attributes in numeric values."
      ]
    },
    {
      "cell_type": "markdown",
      "metadata": {
        "id": "9i6Em8O4RHZI"
      },
      "source": [
        "**(3.1)** **- Nominal attributes**\n",
        "\n",
        "Based on what we learned earlier in this semester, the columns `Destination`, `Airline`, and `Website` are nominal attributes, as there isn't a meaningful order among the attribute values. Write a piece of code to transform these three attributes into numerical attributes using *label encoding*. More specifically, assign one distinct integer for each distinct value in such an attribute. Use `preprocessing.LabelEncoder()` from the `sklearn` library. See a few examples in this [link](https://scikit-learn.org/stable/modules/generated/sklearn.preprocessing.LabelEncoder.html). \n",
        "\n",
        "Fill in your code in the code block below. If your code is correct, the last line `tickets.head(5)` should return similar output under the code block. \n",
        "\n",
        "(4 points)"
      ]
    },
    {
      "cell_type": "code",
      "execution_count": 79,
      "metadata": {
        "colab": {
          "base_uri": "https://localhost:8080/",
          "height": 206
        },
        "id": "NtEVI7cpTaaO",
        "outputId": "0d319175-3459-4429-d090-76b0eeaaa977"
      },
      "outputs": [
        {
          "data": {
            "text/html": [
              "\n",
              "  <div id=\"df-3b655d52-19a4-4527-8e6f-d1d1deed40df\">\n",
              "    <div class=\"colab-df-container\">\n",
              "      <div>\n",
              "<style scoped>\n",
              "    .dataframe tbody tr th:only-of-type {\n",
              "        vertical-align: middle;\n",
              "    }\n",
              "\n",
              "    .dataframe tbody tr th {\n",
              "        vertical-align: top;\n",
              "    }\n",
              "\n",
              "    .dataframe thead th {\n",
              "        text-align: right;\n",
              "    }\n",
              "</style>\n",
              "<table border=\"1\" class=\"dataframe\">\n",
              "  <thead>\n",
              "    <tr style=\"text-align: right;\">\n",
              "      <th></th>\n",
              "      <th>Stops</th>\n",
              "      <th>Website</th>\n",
              "      <th>Booked_on</th>\n",
              "      <th>Destination</th>\n",
              "      <th>Depart_date</th>\n",
              "      <th>Airline</th>\n",
              "      <th>Price</th>\n",
              "    </tr>\n",
              "  </thead>\n",
              "  <tbody>\n",
              "    <tr>\n",
              "      <th>0</th>\n",
              "      <td>5</td>\n",
              "      <td>23</td>\n",
              "      <td>2/7/22</td>\n",
              "      <td>942</td>\n",
              "      <td>4/30/22</td>\n",
              "      <td>106</td>\n",
              "      <td>Expensive</td>\n",
              "    </tr>\n",
              "    <tr>\n",
              "      <th>1</th>\n",
              "      <td>4</td>\n",
              "      <td>23</td>\n",
              "      <td>2/8/22</td>\n",
              "      <td>242</td>\n",
              "      <td>2/27/22</td>\n",
              "      <td>27</td>\n",
              "      <td>Cheap</td>\n",
              "    </tr>\n",
              "    <tr>\n",
              "      <th>2</th>\n",
              "      <td>4</td>\n",
              "      <td>23</td>\n",
              "      <td>2/5/22</td>\n",
              "      <td>321</td>\n",
              "      <td>4/10/22</td>\n",
              "      <td>17</td>\n",
              "      <td>Expensive</td>\n",
              "    </tr>\n",
              "    <tr>\n",
              "      <th>3</th>\n",
              "      <td>4</td>\n",
              "      <td>23</td>\n",
              "      <td>2/8/22</td>\n",
              "      <td>943</td>\n",
              "      <td>5/11/22</td>\n",
              "      <td>106</td>\n",
              "      <td>Expensive</td>\n",
              "    </tr>\n",
              "    <tr>\n",
              "      <th>4</th>\n",
              "      <td>4</td>\n",
              "      <td>23</td>\n",
              "      <td>2/9/22</td>\n",
              "      <td>485</td>\n",
              "      <td>5/11/22</td>\n",
              "      <td>15</td>\n",
              "      <td>Expensive</td>\n",
              "    </tr>\n",
              "  </tbody>\n",
              "</table>\n",
              "</div>\n",
              "      <button class=\"colab-df-convert\" onclick=\"convertToInteractive('df-3b655d52-19a4-4527-8e6f-d1d1deed40df')\"\n",
              "              title=\"Convert this dataframe to an interactive table.\"\n",
              "              style=\"display:none;\">\n",
              "        \n",
              "  <svg xmlns=\"http://www.w3.org/2000/svg\" height=\"24px\"viewBox=\"0 0 24 24\"\n",
              "       width=\"24px\">\n",
              "    <path d=\"M0 0h24v24H0V0z\" fill=\"none\"/>\n",
              "    <path d=\"M18.56 5.44l.94 2.06.94-2.06 2.06-.94-2.06-.94-.94-2.06-.94 2.06-2.06.94zm-11 1L8.5 8.5l.94-2.06 2.06-.94-2.06-.94L8.5 2.5l-.94 2.06-2.06.94zm10 10l.94 2.06.94-2.06 2.06-.94-2.06-.94-.94-2.06-.94 2.06-2.06.94z\"/><path d=\"M17.41 7.96l-1.37-1.37c-.4-.4-.92-.59-1.43-.59-.52 0-1.04.2-1.43.59L10.3 9.45l-7.72 7.72c-.78.78-.78 2.05 0 2.83L4 21.41c.39.39.9.59 1.41.59.51 0 1.02-.2 1.41-.59l7.78-7.78 2.81-2.81c.8-.78.8-2.07 0-2.86zM5.41 20L4 18.59l7.72-7.72 1.47 1.35L5.41 20z\"/>\n",
              "  </svg>\n",
              "      </button>\n",
              "      \n",
              "  <style>\n",
              "    .colab-df-container {\n",
              "      display:flex;\n",
              "      flex-wrap:wrap;\n",
              "      gap: 12px;\n",
              "    }\n",
              "\n",
              "    .colab-df-convert {\n",
              "      background-color: #E8F0FE;\n",
              "      border: none;\n",
              "      border-radius: 50%;\n",
              "      cursor: pointer;\n",
              "      display: none;\n",
              "      fill: #1967D2;\n",
              "      height: 32px;\n",
              "      padding: 0 0 0 0;\n",
              "      width: 32px;\n",
              "    }\n",
              "\n",
              "    .colab-df-convert:hover {\n",
              "      background-color: #E2EBFA;\n",
              "      box-shadow: 0px 1px 2px rgba(60, 64, 67, 0.3), 0px 1px 3px 1px rgba(60, 64, 67, 0.15);\n",
              "      fill: #174EA6;\n",
              "    }\n",
              "\n",
              "    [theme=dark] .colab-df-convert {\n",
              "      background-color: #3B4455;\n",
              "      fill: #D2E3FC;\n",
              "    }\n",
              "\n",
              "    [theme=dark] .colab-df-convert:hover {\n",
              "      background-color: #434B5C;\n",
              "      box-shadow: 0px 1px 3px 1px rgba(0, 0, 0, 0.15);\n",
              "      filter: drop-shadow(0px 1px 2px rgba(0, 0, 0, 0.3));\n",
              "      fill: #FFFFFF;\n",
              "    }\n",
              "  </style>\n",
              "\n",
              "      <script>\n",
              "        const buttonEl =\n",
              "          document.querySelector('#df-3b655d52-19a4-4527-8e6f-d1d1deed40df button.colab-df-convert');\n",
              "        buttonEl.style.display =\n",
              "          google.colab.kernel.accessAllowed ? 'block' : 'none';\n",
              "\n",
              "        async function convertToInteractive(key) {\n",
              "          const element = document.querySelector('#df-3b655d52-19a4-4527-8e6f-d1d1deed40df');\n",
              "          const dataTable =\n",
              "            await google.colab.kernel.invokeFunction('convertToInteractive',\n",
              "                                                     [key], {});\n",
              "          if (!dataTable) return;\n",
              "\n",
              "          const docLinkHtml = 'Like what you see? Visit the ' +\n",
              "            '<a target=\"_blank\" href=https://colab.research.google.com/notebooks/data_table.ipynb>data table notebook</a>'\n",
              "            + ' to learn more about interactive tables.';\n",
              "          element.innerHTML = '';\n",
              "          dataTable['output_type'] = 'display_data';\n",
              "          await google.colab.output.renderOutput(dataTable, element);\n",
              "          const docLink = document.createElement('div');\n",
              "          docLink.innerHTML = docLinkHtml;\n",
              "          element.appendChild(docLink);\n",
              "        }\n",
              "      </script>\n",
              "    </div>\n",
              "  </div>\n",
              "  "
            ],
            "text/plain": [
              "   Stops  Website Booked_on  Destination Depart_date  Airline      Price\n",
              "0      5       23    2/7/22          942     4/30/22      106  Expensive\n",
              "1      4       23    2/8/22          242     2/27/22       27      Cheap\n",
              "2      4       23    2/5/22          321     4/10/22       17  Expensive\n",
              "3      4       23    2/8/22          943     5/11/22      106  Expensive\n",
              "4      4       23    2/9/22          485     5/11/22       15  Expensive"
            ]
          },
          "execution_count": 79,
          "metadata": {},
          "output_type": "execute_result"
        }
      ],
      "source": [
        "# Code for 3.1\n",
        "from sklearn import preprocessing\n",
        "\n",
        "label_encoder = preprocessing.LabelEncoder()\n",
        "\n",
        "tickets['Airline'] = label_encoder.fit_transform(tickets['Airline'])\n",
        "# DO NOT CHANGE ANYTHING ABOVE. FILL IN YOUR CODE BELOW.\n",
        "tickets['Destination'] = label_encoder.fit_transform(tickets['Destination']) \n",
        "tickets['Website'] = label_encoder.fit_transform(tickets['Website'])\n",
        "\n",
        "# DO NOT CHANGE ANYTHING BELOW. FILL IN YOUR CODE ABOVE.\n",
        "tickets.head(5) "
      ]
    },
    {
      "cell_type": "markdown",
      "metadata": {
        "id": "E-HLy2CUexzm"
      },
      "source": [
        "**(3.2)** - Now, let's convert the values in columns `Booked_on` and `Depart_date` from string to `datetime` (https://pandas.pydata.org/docs/reference/api/pandas.to_datetime.html).  (4 points)"
      ]
    },
    {
      "cell_type": "code",
      "execution_count": 80,
      "metadata": {
        "id": "KHdmkWRjvNA-"
      },
      "outputs": [],
      "source": [
        "# Code for 3.2\n",
        "tickets['Booked_on']= pd.to_datetime(tickets['Booked_on'])\n",
        "tickets['Depart_date']= pd.to_datetime(tickets['Depart_date'])\n"
      ]
    },
    {
      "cell_type": "markdown",
      "metadata": {
        "id": "Ubr4QEBOvGMR"
      },
      "source": [
        "**(3.3) Dates** \n",
        "\n",
        "Let's create separate columns for months and days---new columns `Booked_month` and `Booked_day` to replace `Booked_on`, and similarly new columns `Depart_month` and `Depart_day` to replace `Depart_date`. For example, given a row with value `2/7/22` in column `Booked_on`, it should have value `2` in column `Booked_month` and ‍‌v‍‌a‍‌l‍‌u‍‌e‍‌ ‍‌`‍‌7‍‌` in `Booked_day`. We do not need new columns for years, since all rows are tickets in 2022. \n",
        "\n",
        "Note that in (3.2) we converted `Booked_on` and `Depart_date` into type `datatime`. Check out this page to find out how to fetch the month and the day in a value of type `datatime`: https://docs.python.org/3/library/datetime.html#datetime.date.month.\n",
        "\n",
        "(4 points)"
      ]
    },
    {
      "cell_type": "code",
      "execution_count": 81,
      "metadata": {
        "id": "PgnZPUbSa5fo"
      },
      "outputs": [],
      "source": [
        "# Code for 3.3\n",
        "tickets['Booked_month'] , tickets['Booked_day'] = tickets['Booked_on'].dt.month , tickets['Booked_on'].dt.day\n",
        "tickets['Depart_month'] , tickets['Depart_day'] = tickets['Depart_date'].dt.month , tickets['Depart_date'].dt.day"
      ]
    },
    {
      "cell_type": "markdown",
      "metadata": {
        "id": "tsSu4F7vvlQA"
      },
      "source": [
        "**(3.4)** - Remove columns `Booked_on` and `Depart_date` from the `DataFrame` `tickets`. We only need to use the 4 newly created columns from (3.3). (4 points)"
      ]
    },
    {
      "cell_type": "code",
      "execution_count": 82,
      "metadata": {
        "colab": {
          "base_uri": "https://localhost:8080/",
          "height": 206
        },
        "id": "oRTQnv7FvkyL",
        "outputId": "6bcfbb20-6f2c-42d7-a707-2a8ff09dd2d9"
      },
      "outputs": [
        {
          "data": {
            "text/html": [
              "\n",
              "  <div id=\"df-c183db40-6d85-4507-9fef-3ac24834451b\">\n",
              "    <div class=\"colab-df-container\">\n",
              "      <div>\n",
              "<style scoped>\n",
              "    .dataframe tbody tr th:only-of-type {\n",
              "        vertical-align: middle;\n",
              "    }\n",
              "\n",
              "    .dataframe tbody tr th {\n",
              "        vertical-align: top;\n",
              "    }\n",
              "\n",
              "    .dataframe thead th {\n",
              "        text-align: right;\n",
              "    }\n",
              "</style>\n",
              "<table border=\"1\" class=\"dataframe\">\n",
              "  <thead>\n",
              "    <tr style=\"text-align: right;\">\n",
              "      <th></th>\n",
              "      <th>Stops</th>\n",
              "      <th>Website</th>\n",
              "      <th>Destination</th>\n",
              "      <th>Airline</th>\n",
              "      <th>Price</th>\n",
              "      <th>Booked_month</th>\n",
              "      <th>Booked_day</th>\n",
              "      <th>Depart_month</th>\n",
              "      <th>Depart_day</th>\n",
              "    </tr>\n",
              "  </thead>\n",
              "  <tbody>\n",
              "    <tr>\n",
              "      <th>0</th>\n",
              "      <td>5</td>\n",
              "      <td>23</td>\n",
              "      <td>942</td>\n",
              "      <td>106</td>\n",
              "      <td>Expensive</td>\n",
              "      <td>2</td>\n",
              "      <td>7</td>\n",
              "      <td>4</td>\n",
              "      <td>30</td>\n",
              "    </tr>\n",
              "    <tr>\n",
              "      <th>1</th>\n",
              "      <td>4</td>\n",
              "      <td>23</td>\n",
              "      <td>242</td>\n",
              "      <td>27</td>\n",
              "      <td>Cheap</td>\n",
              "      <td>2</td>\n",
              "      <td>8</td>\n",
              "      <td>2</td>\n",
              "      <td>27</td>\n",
              "    </tr>\n",
              "    <tr>\n",
              "      <th>2</th>\n",
              "      <td>4</td>\n",
              "      <td>23</td>\n",
              "      <td>321</td>\n",
              "      <td>17</td>\n",
              "      <td>Expensive</td>\n",
              "      <td>2</td>\n",
              "      <td>5</td>\n",
              "      <td>4</td>\n",
              "      <td>10</td>\n",
              "    </tr>\n",
              "    <tr>\n",
              "      <th>3</th>\n",
              "      <td>4</td>\n",
              "      <td>23</td>\n",
              "      <td>943</td>\n",
              "      <td>106</td>\n",
              "      <td>Expensive</td>\n",
              "      <td>2</td>\n",
              "      <td>8</td>\n",
              "      <td>5</td>\n",
              "      <td>11</td>\n",
              "    </tr>\n",
              "    <tr>\n",
              "      <th>4</th>\n",
              "      <td>4</td>\n",
              "      <td>23</td>\n",
              "      <td>485</td>\n",
              "      <td>15</td>\n",
              "      <td>Expensive</td>\n",
              "      <td>2</td>\n",
              "      <td>9</td>\n",
              "      <td>5</td>\n",
              "      <td>11</td>\n",
              "    </tr>\n",
              "  </tbody>\n",
              "</table>\n",
              "</div>\n",
              "      <button class=\"colab-df-convert\" onclick=\"convertToInteractive('df-c183db40-6d85-4507-9fef-3ac24834451b')\"\n",
              "              title=\"Convert this dataframe to an interactive table.\"\n",
              "              style=\"display:none;\">\n",
              "        \n",
              "  <svg xmlns=\"http://www.w3.org/2000/svg\" height=\"24px\"viewBox=\"0 0 24 24\"\n",
              "       width=\"24px\">\n",
              "    <path d=\"M0 0h24v24H0V0z\" fill=\"none\"/>\n",
              "    <path d=\"M18.56 5.44l.94 2.06.94-2.06 2.06-.94-2.06-.94-.94-2.06-.94 2.06-2.06.94zm-11 1L8.5 8.5l.94-2.06 2.06-.94-2.06-.94L8.5 2.5l-.94 2.06-2.06.94zm10 10l.94 2.06.94-2.06 2.06-.94-2.06-.94-.94-2.06-.94 2.06-2.06.94z\"/><path d=\"M17.41 7.96l-1.37-1.37c-.4-.4-.92-.59-1.43-.59-.52 0-1.04.2-1.43.59L10.3 9.45l-7.72 7.72c-.78.78-.78 2.05 0 2.83L4 21.41c.39.39.9.59 1.41.59.51 0 1.02-.2 1.41-.59l7.78-7.78 2.81-2.81c.8-.78.8-2.07 0-2.86zM5.41 20L4 18.59l7.72-7.72 1.47 1.35L5.41 20z\"/>\n",
              "  </svg>\n",
              "      </button>\n",
              "      \n",
              "  <style>\n",
              "    .colab-df-container {\n",
              "      display:flex;\n",
              "      flex-wrap:wrap;\n",
              "      gap: 12px;\n",
              "    }\n",
              "\n",
              "    .colab-df-convert {\n",
              "      background-color: #E8F0FE;\n",
              "      border: none;\n",
              "      border-radius: 50%;\n",
              "      cursor: pointer;\n",
              "      display: none;\n",
              "      fill: #1967D2;\n",
              "      height: 32px;\n",
              "      padding: 0 0 0 0;\n",
              "      width: 32px;\n",
              "    }\n",
              "\n",
              "    .colab-df-convert:hover {\n",
              "      background-color: #E2EBFA;\n",
              "      box-shadow: 0px 1px 2px rgba(60, 64, 67, 0.3), 0px 1px 3px 1px rgba(60, 64, 67, 0.15);\n",
              "      fill: #174EA6;\n",
              "    }\n",
              "\n",
              "    [theme=dark] .colab-df-convert {\n",
              "      background-color: #3B4455;\n",
              "      fill: #D2E3FC;\n",
              "    }\n",
              "\n",
              "    [theme=dark] .colab-df-convert:hover {\n",
              "      background-color: #434B5C;\n",
              "      box-shadow: 0px 1px 3px 1px rgba(0, 0, 0, 0.15);\n",
              "      filter: drop-shadow(0px 1px 2px rgba(0, 0, 0, 0.3));\n",
              "      fill: #FFFFFF;\n",
              "    }\n",
              "  </style>\n",
              "\n",
              "      <script>\n",
              "        const buttonEl =\n",
              "          document.querySelector('#df-c183db40-6d85-4507-9fef-3ac24834451b button.colab-df-convert');\n",
              "        buttonEl.style.display =\n",
              "          google.colab.kernel.accessAllowed ? 'block' : 'none';\n",
              "\n",
              "        async function convertToInteractive(key) {\n",
              "          const element = document.querySelector('#df-c183db40-6d85-4507-9fef-3ac24834451b');\n",
              "          const dataTable =\n",
              "            await google.colab.kernel.invokeFunction('convertToInteractive',\n",
              "                                                     [key], {});\n",
              "          if (!dataTable) return;\n",
              "\n",
              "          const docLinkHtml = 'Like what you see? Visit the ' +\n",
              "            '<a target=\"_blank\" href=https://colab.research.google.com/notebooks/data_table.ipynb>data table notebook</a>'\n",
              "            + ' to learn more about interactive tables.';\n",
              "          element.innerHTML = '';\n",
              "          dataTable['output_type'] = 'display_data';\n",
              "          await google.colab.output.renderOutput(dataTable, element);\n",
              "          const docLink = document.createElement('div');\n",
              "          docLink.innerHTML = docLinkHtml;\n",
              "          element.appendChild(docLink);\n",
              "        }\n",
              "      </script>\n",
              "    </div>\n",
              "  </div>\n",
              "  "
            ],
            "text/plain": [
              "   Stops  Website  Destination  Airline      Price  Booked_month  Booked_day  \\\n",
              "0      5       23          942      106  Expensive             2           7   \n",
              "1      4       23          242       27      Cheap             2           8   \n",
              "2      4       23          321       17  Expensive             2           5   \n",
              "3      4       23          943      106  Expensive             2           8   \n",
              "4      4       23          485       15  Expensive             2           9   \n",
              "\n",
              "   Depart_month  Depart_day  \n",
              "0             4          30  \n",
              "1             2          27  \n",
              "2             4          10  \n",
              "3             5          11  \n",
              "4             5          11  "
            ]
          },
          "execution_count": 82,
          "metadata": {},
          "output_type": "execute_result"
        }
      ],
      "source": [
        "# Code for 3.4\n",
        "tickets= tickets.drop(columns= 'Booked_on')\n",
        "tickets= tickets.drop(columns = 'Depart_date')\n",
        "\n",
        "# DO NOT CHANGE ANYTHING BELOW. FILL IN YOUR CODE ABOVE.\n",
        "tickets.head(5)"
      ]
    },
    {
      "cell_type": "markdown",
      "metadata": {
        "id": "BDttzhvwWRdb"
      },
      "source": [
        "**(3.5)** - Separate the class labels from the features. The features should be in a `DataFrame` `tickets_feature` and the class labels should be in a `Series` (one column) `tickets_class`. Refer to the expected output under the code block below. The [instructional Colab on Linear Model](https://colab.research.google.com/drive/18hXzJCPuLa6bLxIA2BuCD20w8EOnuKM7?usp=sharing) has some example of this. (6 points)"
      ]
    },
    {
      "cell_type": "code",
      "execution_count": 83,
      "metadata": {
        "id": "2kKt0b_Ay7ZA"
      },
      "outputs": [],
      "source": [
        "pd.set_option('display.max_columns', 10)"
      ]
    },
    {
      "cell_type": "code",
      "execution_count": 84,
      "metadata": {
        "colab": {
          "base_uri": "https://localhost:8080/"
        },
        "id": "fQUODN0jWQU0",
        "outputId": "1b7f8130-a06a-4c82-ae79-4750e1726d7f"
      },
      "outputs": [
        {
          "name": "stdout",
          "output_type": "stream",
          "text": [
            "The first five rows of tickets_feature: \n",
            "\n",
            "   Stops  Website  Destination  Airline  Booked_month  Booked_day  \\\n",
            "0      5       23          942      106             2           7   \n",
            "1      4       23          242       27             2           8   \n",
            "2      4       23          321       17             2           5   \n",
            "3      4       23          943      106             2           8   \n",
            "4      4       23          485       15             2           9   \n",
            "\n",
            "   Depart_month  Depart_day  \n",
            "0             4          30  \n",
            "1             2          27  \n",
            "2             4          10  \n",
            "3             5          11  \n",
            "4             5          11  \n",
            "The first five rows of tickets_class: \n",
            "\n",
            "0    Expensive\n",
            "1        Cheap\n",
            "2    Expensive\n",
            "3    Expensive\n",
            "4    Expensive\n",
            "Name: Price, dtype: object\n"
          ]
        }
      ],
      "source": [
        "# Code for 3.5\n",
        "tickets_feature = tickets[['Stops' ,'Website' ,'Destination' ,'Airline','Booked_month' ,'Booked_day','Depart_month' ,'Depart_day']]\n",
        "\n",
        "# DO NOT CHANGE ANYTHING BELOW. FILL IN YOUR CODE ABOVE.\n",
        "print(\"The first five rows of tickets_feature: \")\n",
        "print()\n",
        "print( tickets_feature.head(5))\n",
        "print(\"The first five rows of tickets_class: \")\n",
        "print()\n",
        "\n",
        "tickets_class = tickets['Price']\n",
        "print( tickets_class.head(5))"
      ]
    },
    {
      "cell_type": "markdown",
      "metadata": {
        "id": "clvVSH2efFwF"
      },
      "source": [
        "**(3.6)** - Partition your dataset into training and test and use stratified sampling. Use 80% of the data for tarining and 20% for test. (6 points)"
      ]
    },
    {
      "cell_type": "code",
      "execution_count": 85,
      "metadata": {
        "id": "eaoqqRi4gerQ"
      },
      "outputs": [],
      "source": [
        "# Code for 3.6\n",
        "from sklearn.model_selection import train_test_split\n",
        "train_feature, test_feature, train_class, test_class = \\\n",
        "    train_test_split(tickets_feature, tickets_class, stratify=tickets_class, random_state=5, test_size=0.20, train_size=0.80) \n"
      ]
    },
    {
      "cell_type": "markdown",
      "metadata": {
        "id": "xmCqG2aLgk7e"
      },
      "source": [
        "**(3.7)** - Create a 3-nearest neighbor model and train your model. (6 points)"
      ]
    },
    {
      "cell_type": "code",
      "execution_count": 86,
      "metadata": {
        "colab": {
          "base_uri": "https://localhost:8080/"
        },
        "id": "6b3yY9nygkhv",
        "outputId": "9e4d7eae-27cc-49db-9d4c-73841bc6c3fe"
      },
      "outputs": [
        {
          "data": {
            "text/plain": [
              "KNeighborsClassifier(n_neighbors=3)"
            ]
          },
          "execution_count": 86,
          "metadata": {},
          "output_type": "execute_result"
        }
      ],
      "source": [
        "# Code for 3.7\n",
        "from sklearn.neighbors import KNeighborsClassifier\n",
        "knn_output = KNeighborsClassifier(n_neighbors=3)\n",
        "knn_output.fit(train_feature, train_class)"
      ]
    },
    {
      "cell_type": "markdown",
      "metadata": {
        "id": "_OD8e2PehiYL"
      },
      "source": [
        "**(3.8)** - Evaluate your model using the test set. Produce the model's accruacy, confusion matrix, and classification report, as shown in the output below. (6 points)"
      ]
    },
    {
      "cell_type": "code",
      "execution_count": 88,
      "metadata": {
        "colab": {
          "base_uri": "https://localhost:8080/"
        },
        "id": "36In_Bnkhhrh",
        "outputId": "c111ce37-b370-46a0-ac24-e4185573a285"
      },
      "outputs": [
        {
          "name": "stdout",
          "output_type": "stream",
          "text": [
            "Test set accuracy: 0.59\n",
            "Confusion matrix:\n",
            "Predicted  Average  Cheap  Expensive  All\n",
            "True                                     \n",
            "Average        180     86         41  307\n",
            "Cheap          111    208         37  356\n",
            "Expensive       80     32        172  284\n",
            "All            371    326        250  947\n",
            "\n",
            "Classification report:\n",
            "              precision    recall  f1-score   support\n",
            "\n",
            "     Average       0.49      0.59      0.53       307\n",
            "       Cheap       0.64      0.58      0.61       356\n",
            "   Expensive       0.69      0.61      0.64       284\n",
            "\n",
            "    accuracy                           0.59       947\n",
            "   macro avg       0.60      0.59      0.60       947\n",
            "weighted avg       0.60      0.59      0.59       947\n",
            "\n"
          ]
        }
      ],
      "source": [
        "# Code for 3.8\n",
        "\n",
        "from sklearn.metrics import classification_report\n",
        "print(\"Test set accuracy: {:.2f}\".format(knn_output.score(test_feature, test_class)))\n",
        "\n",
        "predictions_output = knn_output.predict(test_feature)\n",
        "print(\"Confusion matrix:\")\n",
        "print(pd.crosstab(test_class, predictions_output, rownames=['True'], colnames=['Predicted'], margins=True))\n",
        "print()\n",
        "print(\"Classification report:\")\n",
        "print(classification_report(test_class, predictions_output))\n"
      ]
    },
    {
      "cell_type": "markdown",
      "metadata": {
        "id": "UdEJdlldi1qf"
      },
      "source": [
        "**(3.9)** - Let's fetch a new data file `newData.csv`. It has 10 data instances. Create a `DataFrame` named `new_data` using this data file. (4 points) "
      ]
    },
    {
      "cell_type": "code",
      "execution_count": 89,
      "metadata": {
        "colab": {
          "base_uri": "https://localhost:8080/"
        },
        "id": "qCGq8bvLjSWM",
        "outputId": "aea6b790-2f00-4a53-a2ec-8c06cb8526ff"
      },
      "outputs": [
        {
          "name": "stdout",
          "output_type": "stream",
          "text": [
            "--2022-03-11 08:21:45--  https://drive.google.com/uc?export=download&id=1sDdj_FV5yXX0uSBWfzayCpwDdBjqaNtG\n",
            "Resolving drive.google.com (drive.google.com)... 74.125.195.100, 74.125.195.113, 74.125.195.102, ...\n",
            "Connecting to drive.google.com (drive.google.com)|74.125.195.100|:443... connected.\n",
            "HTTP request sent, awaiting response... 303 See Other\n",
            "Location: https://doc-14-78-docs.googleusercontent.com/docs/securesc/ha0ro937gcuc7l7deffksulhg5h7mbp1/ms9spqhq4ddud9d9ao01o74a2al359un/1646986875000/15814610165147367942/*/1sDdj_FV5yXX0uSBWfzayCpwDdBjqaNtG?e=download [following]\n",
            "Warning: wildcards not supported in HTTP.\n",
            "--2022-03-11 08:21:45--  https://doc-14-78-docs.googleusercontent.com/docs/securesc/ha0ro937gcuc7l7deffksulhg5h7mbp1/ms9spqhq4ddud9d9ao01o74a2al359un/1646986875000/15814610165147367942/*/1sDdj_FV5yXX0uSBWfzayCpwDdBjqaNtG?e=download\n",
            "Resolving doc-14-78-docs.googleusercontent.com (doc-14-78-docs.googleusercontent.com)... 173.194.202.132, 2607:f8b0:400e:c00::84\n",
            "Connecting to doc-14-78-docs.googleusercontent.com (doc-14-78-docs.googleusercontent.com)|173.194.202.132|:443... connected.\n",
            "HTTP request sent, awaiting response... 200 OK\n",
            "Length: 301 [text/csv]\n",
            "Saving to: ‘newData.csv’\n",
            "\n",
            "newData.csv         100%[===================>]     301  --.-KB/s    in 0s      \n",
            "\n",
            "2022-03-11 08:21:45 (5.63 MB/s) - ‘newData.csv’ saved [301/301]\n",
            "\n"
          ]
        }
      ],
      "source": [
        "# Code for 3.9\n",
        "!wget -O newData.csv \"https://drive.google.com/uc?export=download&id=1sDdj_FV5yXX0uSBWfzayCpwDdBjqaNtG\"\n",
        "# DO NOT CHANGE ANYTHING ABOVE. FILL IN YOUR CODE BELOW.\n",
        "\n",
        "new_data_file = pd.read_csv(\"https://drive.google.com/uc?export=download&id=1sDdj_FV5yXX0uSBWfzayCpwDdBjqaNtG\")\n"
      ]
    },
    {
      "cell_type": "markdown",
      "metadata": {
        "id": "LHMPgAlujUsz"
      },
      "source": [
        "**(3.10)** - Apply your 3NN model on the new data points in `new data` and report the output class labels which shall be stored in `prediction`. Refer to the example output below. (4 points)"
      ]
    },
    {
      "cell_type": "code",
      "execution_count": 90,
      "metadata": {
        "colab": {
          "base_uri": "https://localhost:8080/"
        },
        "id": "i3MYSZw9jYB5",
        "outputId": "22618da6-66ef-404e-b878-fe2832ff4775"
      },
      "outputs": [
        {
          "name": "stdout",
          "output_type": "stream",
          "text": [
            "Class labels for the 10 new data points:  ['Average' 'Cheap' 'Expensive' 'Cheap' 'Average' 'Average' 'Cheap'\n",
            " 'Average' 'Average' 'Average']\n"
          ]
        }
      ],
      "source": [
        "# Code for 3.10\n",
        "prediction =knn_output.predict(new_data_file)\n",
        "\n",
        "\n",
        "# DO NOT CHANGE ANYTHING BELOW. FILL IN YOUR CODE ABOVE.\n",
        "print(\"Class labels for the 10 new data points: \", prediction)"
      ]
    }
  ],
  "metadata": {
    "colab": {
      "collapsed_sections": [],
      "name": "Copy of dasc5301-spring2022-p1.ipynb",
      "provenance": []
    },
    "kernelspec": {
      "display_name": "Python 3",
      "name": "python3"
    },
    "language_info": {
      "name": "python"
    }
  },
  "nbformat": 4,
  "nbformat_minor": 0
}
